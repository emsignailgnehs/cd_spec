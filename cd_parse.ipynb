{
 "cells": [
  {
   "cell_type": "code",
   "execution_count": 46,
   "metadata": {
    "collapsed": false
   },
   "outputs": [
    {
     "name": "stdout",
     "output_type": "stream",
     "text": [
      "5000\n",
      "['TITLE\\t1112_DI\\t\\t\\n', 'DATA TYPE\\t\\t\\t\\n', 'ORIGIN\\tJASCO\\t\\t\\n', 'OWNER\\t\\t\\t\\n', 'DATE\\t20/11/12\\t\\t\\n', 'TIME\\t14:35:50\\t\\t\\n', 'SPECTROMETER/DATA SYSTEM\\t\\t\\t\\n', 'LOCALE\\t1033\\t\\t\\n', 'RESOLUTION\\t\\t\\t\\n', 'DELTAX\\t-1\\t\\t\\n', 'XUNITS\\tNANOMETERS\\t\\t\\n', 'YUNITS\\tCD [mdeg]\\t\\t\\n', 'Y2UNITS\\tHT [V]\\t\\t\\n', 'Y3UNITS\\tABSORBANCE\\t\\t\\n', 'FIRSTX\\t260\\t\\t\\n', 'LASTX\\t190\\t\\t\\n', 'NPOINTS\\t71\\t\\t\\n', 'FIRSTY\\t-0.19904\\t\\t\\n', 'MAXY\\t0.26963\\t\\t\\n', 'MINY\\t-0.48944\\t\\t\\n', 'XYDATA\\t\\t\\t\\n', '260\\t-0.199038\\t279.597\\t-0.00837918\\n', '259\\t-0.269291\\t279.903\\t-0.00796057\\n', '258\\t-0.294924\\t280.268\\t-0.00770158\\n', '257\\t-0.350323\\t280.669\\t-0.00711571\\n', '256\\t-0.0792291\\t281.004\\t-0.00687456\\n', '255\\t-0.0314404\\t281.353\\t-0.00678284\\n', '254\\t-0.16547\\t281.671\\t-0.00664664\\n', '253\\t-0.126468\\t281.985\\t-0.00637081\\n', '252\\t-0.027119\\t282.298\\t-0.00632073\\n', '251\\t0.0801687\\t282.569\\t-0.00610708\\n', '250\\t-0.0963355\\t282.783\\t-0.00620125\\n', '249\\t-0.189608\\t282.97\\t-0.0059421\\n', '248\\t-0.335694\\t283.174\\t-0.00581947\\n', '247\\t-0.289032\\t283.385\\t-0.00591322\\n', '246\\t-0.167412\\t283.656\\t-0.00574533\\n', '245\\t0.0908545\\t283.916\\t-0.0060052\\n', '244\\t0.216093\\t284.115\\t-0.0062978\\n', '243\\t0.0247381\\t284.33\\t-0.00654904\\n', '242\\t-0.100438\\t284.616\\t-0.00679679\\n', '241\\t-0.0399629\\t284.96\\t-0.00669434\\n', '240\\t-0.0734944\\t285.426\\t-0.00671446\\n', '239\\t-0.11269\\t285.907\\t-0.00727775\\n', '238\\t-0.213101\\t286.46\\t-0.00757485\\n', '237\\t-0.255939\\t287.038\\t-0.00830199\\n', '236\\t-0.437198\\t287.691\\t-0.00835439\\n', '235\\t-0.489441\\t288.404\\t-0.00854857\\n', '234\\t-0.341451\\t289.168\\t-0.00892926\\n', '233\\t-0.0942398\\t289.963\\t-0.00939846\\n', '232\\t-0.0422472\\t290.581\\t-0.00985392\\n', '231\\t0.0540502\\t291.164\\t-0.0101702\\n', '230\\t-0.198205\\t291.814\\t-0.0104239\\n', '229\\t-0.200942\\t292.541\\t-0.0108677\\n', '228\\t-0.342839\\t293.378\\t-0.0116999\\n', '227\\t-0.30881\\t294.256\\t-0.0120571\\n', '226\\t-0.293737\\t295.094\\t-0.0126753\\n', '225\\t-0.290164\\t295.833\\t-0.0132421\\n', '224\\t-0.135146\\t296.603\\t-0.0137154\\n', '223\\t-0.0918071\\t297.295\\t-0.0143613\\n', '222\\t-0.0831766\\t298.034\\t-0.0145771\\n', '221\\t-0.0367945\\t298.772\\t-0.0146648\\n', '220\\t-0.0368522\\t299.536\\t-0.0144932\\n', '219\\t0.122755\\t300.276\\t-0.0142003\\n', '218\\t0.105505\\t301.013\\t-0.0143493\\n', '217\\t0.118533\\t301.649\\t-0.0144585\\n', '216\\t0.0724627\\t302.242\\t-0.0145833\\n', '215\\t-0.0641742\\t302.836\\t-0.0143475\\n', '214\\t-0.0689868\\t303.366\\t-0.0138722\\n', '213\\t-0.121245\\t303.897\\t-0.0136216\\n', '212\\t-0.0904457\\t304.426\\t-0.0136298\\n', '211\\t-0.0895372\\t305.014\\t-0.0135093\\n', '210\\t0.127534\\t305.576\\t-0.0135891\\n', '209\\t-0.0446745\\t306.168\\t-0.0132413\\n', '208\\t0.0194967\\t306.8\\t-0.0128609\\n', '207\\t0.000675539\\t307.433\\t-0.0123128\\n', '206\\t-0.109382\\t308.094\\t-0.0118958\\n', '205\\t-0.0250966\\t308.839\\t-0.0114861\\n', '204\\t0.0574364\\t309.655\\t-0.0111727\\n', '203\\t-0.175354\\t310.68\\t-0.0107724\\n', '202\\t-0.0509401\\t311.734\\t-0.0106906\\n', '201\\t0.183787\\t312.878\\t-0.00999808\\n', '200\\t0.269632\\t313.809\\t-0.00978352\\n', '199\\t0.258123\\t314.464\\t-0.00960666\\n', '198\\t0.15302\\t314.83\\t-0.0096051\\n', '197\\t-0.0547379\\t315.094\\t-0.00879502\\n', '196\\t-0.0619094\\t315.302\\t-0.00807586\\n', '195\\t-0.458343\\t315.545\\t-0.00758901\\n', '194\\t-0.0990938\\t315.993\\t-0.00718026\\n', '193\\t-0.119981\\t317.061\\t-0.00632229\\n', '192\\t0.101429\\t319.438\\t-0.00511017\\n', '191\\t-0.0371924\\t323.788\\t-0.00382745\\n', '190\\t0.170979\\t331.094\\t-0.0024613\\n', '\\t\\t\\t\\n', '##### Extended Information\\t\\t\\t\\n', '[Comments]\\t\\t\\t\\n', 'Sample name\\t1112_DI\\t\\t\\n', 'Comment\\t\\t\\t\\n', 'User\\t\\t\\t\\n', 'Division\\t\\t\\t\\n', 'Company\\tMicrosoft\\t\\t\\n', '\\t\\t\\t\\n', '[Detailed Information]\\t\\t\\t\\n', 'Creation date\\t11/12/2020 15:35\\t\\t\\n', '\\t\\t\\t\\n', 'Data array type\\tLinear data array * 3\\t\\t\\n', 'Horizontal axis\\tWavelength [nm]\\t\\t\\n', 'Vertical axis(1)\\tCD [mdeg]\\t\\t\\n', 'Vertical axis(2)\\tHT [V]\\t\\t\\n', 'Vertical axis(3)\\tAbs\\t\\t\\n', 'Start\\t260 nm\\t\\t\\n', 'End\\t190 nm\\t\\t\\n', 'Data interval\\t1 nm\\t\\t\\n', 'Data points\\t71\\t\\t\\n', '\\t\\t\\t\\n', '[Measurement Information]\\t\\t\\t\\n', 'Instrument name\\tJ-1500\\t\\t\\n', 'Model name\\tJ-1500\\t\\t\\n', 'Serial No.\\tA021161638\\t\\t\\n', '\\t\\t\\t\\n', 'Detector\\tPM-539\\t\\t\\n', 'Detector S/N\\tA0211PM539\\t\\t\\n', '  Lock-in amp.\\tX mode\\t\\t\\n', '  HT volt\\tAuto\\t\\t\\n', '\\t\\t\\t\\n', 'Accessory\\tPTC-517\\t\\t\\n', 'Accessory S/N\\tA010961646\\t\\t\\n', '  Temperature\\t25.00 C\\t\\t\\n', '  Control sonsor\\tHolder\\t\\t\\n', '  Monitor sensor\\tHolder\\t\\t\\n', '  Start Mode\\tKeep target temperature 0.50 deg C while 10 seconds\\t\\t\\n', '\\t\\t\\t\\n', 'Measurement date\\t11/12/2020 15:34\\t\\t\\n', '\\t\\t\\t\\n', 'Photometric mode\\t\"CD, HT, Abs\"\\t\\t\\n', 'Measure range\\t260 - 190 nm\\t\\t\\n', 'Data pitch\\t1 nm\\t\\t\\n', 'CD scale\\t200 mdeg/1.0 dOD\\t\\t\\n', 'FL scale\\t200 mdeg/1.0 dOD\\t\\t\\n', 'D.I.T.\\t4 sec\\t\\t\\n', 'Bandwidth\\t1.00 nm\\t\\t\\n', 'Start mode\\tImmediately\\t\\t\\n', 'Scanning speed\\t50 nm/min\\t\\t\\n', 'Baseline correction\\tBaseline\\t\\t\\n', 'Shutter control\\tAuto\\t\\t\\n', 'No. of cycle\\t3-Jan\\t\\t\\n']\n"
     ]
    }
   ],
   "source": [
    "import re\n",
    "import pandas as pd\n",
    "\n",
    "#input the data folder in 'path', and filename in 'name'\n",
    "path = r'C:\\Users\\Sheng\\Desktop\\CD\\20201112_NaClO4_lys10'\n",
    "name = r'DI_1.txt'\n",
    "\n",
    "s = path + '\\\\' + name\n",
    "raw_filename = r'{}'.format(s)\n",
    "\n",
    "with open(filename , 'r') as f:\n",
    "    raw_data = r'{}'.format(f.readlines())\n",
    "    print(len(raw_data))\n",
    "    print(raw_data)"
   ]
  },
  {
   "cell_type": "code",
   "execution_count": 41,
   "metadata": {
    "collapsed": false
   },
   "outputs": [
    {
     "name": "stdout",
     "output_type": "stream",
     "text": [
      "['TITLE\\t1112_DI\\t\\t', '']\n"
     ]
    }
   ],
   "source": [
    "print(raw_data.split('\\n'))"
   ]
  },
  {
   "cell_type": "code",
   "execution_count": 61,
   "metadata": {
    "collapsed": true
   },
   "outputs": [],
   "source": [
    "a= ['260\\t-0.199038\\t279.597\\t-0.00837918\\n' , '259\\t-0.269291\\t279.903\\t-0.00796057\\n']"
   ]
  },
  {
   "cell_type": "code",
   "execution_count": 62,
   "metadata": {
    "collapsed": false
   },
   "outputs": [
    {
     "name": "stdout",
     "output_type": "stream",
     "text": [
      "re.compile('\\\\d*\\\\s\\\\-?\\\\d*.\\\\d*\\\\s\\\\d*.\\\\d*\\\\s\\\\-?\\\\d*.\\\\d*\\\\n')\n"
     ]
    }
   ],
   "source": [
    "rx_dict = {\n",
    "    'dataset' : re.compile(r'\\d*\\s\\-?\\d*.\\d*\\s\\d*.\\d*\\s\\-?\\d*.\\d*\\n')\n",
    "}\n",
    "print(rx_dict['dataset'])"
   ]
  },
  {
   "cell_type": "code",
   "execution_count": 68,
   "metadata": {
    "collapsed": false
   },
   "outputs": [
    {
     "name": "stdout",
     "output_type": "stream",
     "text": [
      "[[260.0, -0.199038, 279.597, -0.00837918], [259.0, -0.269291, 279.903, -0.00796057]]\n"
     ]
    }
   ],
   "source": [
    "parsed_dataset = [rx_dict['dataset'].match(data) for data in a]\n",
    "#print(parsed_dataset)\n",
    "fl_parsed_data = []\n",
    "for parsed_data in parsed_dataset:\n",
    "    fl_parsed_data.append([float(x) for x in parsed_data.group().strip('\\n').split('\\t')])\n",
    "#print([float(x) for x in parsed_data.group().strip('\\n').split('\\t')])\n",
    "print(fl_parsed_data)"
   ]
  },
  {
   "cell_type": "code",
   "execution_count": null,
   "metadata": {
    "collapsed": true
   },
   "outputs": [],
   "source": []
  }
 ],
 "metadata": {
  "kernelspec": {
   "display_name": "Python 3",
   "language": "python",
   "name": "python3"
  },
  "language_info": {
   "codemirror_mode": {
    "name": "ipython",
    "version": 3
   },
   "file_extension": ".py",
   "mimetype": "text/x-python",
   "name": "python",
   "nbconvert_exporter": "python",
   "pygments_lexer": "ipython3",
   "version": "3.6.0"
  }
 },
 "nbformat": 4,
 "nbformat_minor": 2
}
